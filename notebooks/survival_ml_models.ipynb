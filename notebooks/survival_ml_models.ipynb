{
 "cells": [
  {
   "cell_type": "code",
   "execution_count": 4,
   "metadata": {},
   "outputs": [
    {
     "name": "stderr",
     "output_type": "stream",
     "text": [
      "/home/tonyzou/anaconda3/envs/python-37/lib/python3.7/site-packages/tqdm/auto.py:22: TqdmWarning: IProgress not found. Please update jupyter and ipywidgets. See https://ipywidgets.readthedocs.io/en/stable/user_install.html\n",
      "  from .autonotebook import tqdm as notebook_tqdm\n",
      "Intel(R) Extension for Scikit-learn* enabled (https://github.com/intel/scikit-learn-intelex)\n"
     ]
    }
   ],
   "source": [
    "import os\n",
    "import sys\n",
    "import pandas\n",
    "from copy import deepcopy\n",
    "from itertools import product\n",
    "from tqdm import tqdm\n",
    "import numpy as np\n",
    "module_path = os.path.abspath(os.path.join('..'))\n",
    "sys.path.append(module_path)\n",
    "from joblib import Parallel, delayed\n",
    "# %%\n",
    "\n",
    "from sklearn.metrics import roc_auc_score\n",
    "import matplotlib.pyplot as plt\n",
    "from sklearn.metrics import roc_curve\n",
    "from sklearn.linear_model import SGDClassifier\n",
    "from sklearn.ensemble import RandomForestClassifier\n",
    "from sklearn.metrics import log_loss\n",
    "from pysurvival.models.survival_forest import RandomSurvivalForestModel\n",
    "import lifelines\n",
    "from lifelines import CoxPHFitter\n",
    "from matplotlib.axes import Axes\n",
    "\n",
    "# %%\n",
    "from bsa.dataset.data_loader import load_raw_data, preprocess_data, splitting_function, drop_unknown_horizon\n",
    "# %%\n",
    "import random\n",
    "from sklearnex import patch_sklearn\n",
    "patch_sklearn()\n",
    "\n",
    "\n",
    "seed = 3407\n",
    "random.seed(seed)\n",
    "np.random.seed(seed)"
   ]
  },
  {
   "cell_type": "code",
   "execution_count": 1,
   "metadata": {},
   "outputs": [],
   "source": [
    "def load_and_preprocess(path = '../data/data_for_bankruptcy_prediction_no_lags_corrected.csv', print_shape = False):\n",
    "    raw_data, raw_labels = load_raw_data(path)\n",
    "    x, outcomes = preprocess_data(raw_data, raw_labels)\n",
    "\n",
    "    x_train, x_test, outcomes_train, outcomes_test = splitting_function(x, outcomes, 0.5)\n",
    "    x_val, x_test, outcomes_val, outcomes_test = splitting_function(x_test, outcomes_test, 0.5)\n",
    "\n",
    "    if print_shape:\n",
    "        print(\"Training features shape: \", x_train.shape)\n",
    "        print(\"Training labels shape: \", outcomes_train.shape)\n",
    "        print(\"Testing features shape: \", x_test.shape)\n",
    "        print(\"Testing labels shape: \", outcomes_test.shape)\n",
    "        print(\"Validation features shape: \", x_val.shape)\n",
    "        print(\"Validation labels shape: \", outcomes_val.shape)\n",
    "    \n",
    "    # Sanity check\n",
    "    assert len(np.intersect1d(x_train.index.get_level_values(0).values, x_test.index.get_level_values(0).values)) == 0\n",
    "    assert len(np.intersect1d(x_train.index.get_level_values(0).values, x_val.index.get_level_values(0).values)) == 0\n",
    "    assert len(np.intersect1d(x_test.index.get_level_values(0).values, x_val.index.get_level_values(0).values)) == 0\n",
    "\n",
    "    return (x_train, outcomes_train), (x_test, outcomes_test), (x_val, outcomes_val)"
   ]
  },
  {
   "cell_type": "code",
   "execution_count": 2,
   "metadata": {},
   "outputs": [],
   "source": [
    "def get_horizon(x_train, outcomes_train, x_test, outcomes_test, x_val, outcomes_val, horizon):\n",
    "\n",
    "    x_train = x_train.copy()\n",
    "    x_test = x_test.copy()\n",
    "    x_val = x_val.copy()\n",
    "    outcomes_train = outcomes_train.copy()\n",
    "    outcomes_test = outcomes_test.copy()\n",
    "    outcomes_val = outcomes_val.copy()\n",
    "\n",
    "    outcomes_test = drop_unknown_horizon(outcomes_test, horizon)\n",
    "    outcomes_train = drop_unknown_horizon(outcomes_train, horizon)\n",
    "    outcomes_val = drop_unknown_horizon(outcomes_val, horizon)\n",
    "\n",
    "    x_train = x_train.loc[outcomes_train.index]\n",
    "    x_test = x_test.loc[outcomes_test.index]\n",
    "    x_val = x_val.loc[outcomes_val.index]\n",
    "\n",
    "    # return (x_train, y_train), (x_test, y_test), (x_val, y_val)\n",
    "\n",
    "    return (x_train, outcomes_train.values[:, 3]), (x_test, outcomes_test.values[:, 3]), (x_val, outcomes_val.values[:, 3])"
   ]
  },
  {
   "cell_type": "code",
   "execution_count": 5,
   "metadata": {},
   "outputs": [
    {
     "name": "stderr",
     "output_type": "stream",
     "text": [
      "/home/tonyzou/bankruptcy-survival-analysis/bsa/dataset/data_loader.py:85: SettingWithCopyWarning: \n",
      "A value is trying to be set on a copy of a slice from a DataFrame.\n",
      "Try using .loc[row_indexer,col_indexer] = value instead\n",
      "\n",
      "See the caveats in the documentation: https://pandas.pydata.org/pandas-docs/stable/user_guide/indexing.html#returning-a-view-versus-a-copy\n",
      "  y['HBankrupt'] = ((y['T'] <= (horizon + 1)) & bankrupted_filter).astype(int)\n"
     ]
    }
   ],
   "source": [
    "(x_train_raw, outcomes_train), (x_test_raw, outcomes_test), (x_val_raw, outcomes_val) = load_and_preprocess()\n",
    "\n",
    "(x_train_h, y_train), (x_test_h, y_test), (x_val_h, y_val) = get_horizon(\n",
    "            x_train_raw, outcomes_train, x_test_raw, outcomes_test, x_val_raw, outcomes_val, 3\n",
    "        )"
   ]
  },
  {
   "cell_type": "code",
   "execution_count": 6,
   "metadata": {},
   "outputs": [],
   "source": [
    "data_cox = x_train_raw.join(outcomes_train)\n",
    "data_cox = data_cox.drop(\"IBankrupt\", axis=1)\n",
    "data_cox = data_cox.drop(['INaics3_7', 'INaics3_8', 'INaics3_19', 'INaics3_21', 'INaics3_23', 'INaics3_78', 'INaics3_81', 'INaics3_97'], axis=1)\n",
    "x_val_h_cox = x_val_h.drop(['INaics3_7', 'INaics3_8', 'INaics3_19', 'INaics3_21', 'INaics3_23', 'INaics3_78', 'INaics3_81', 'INaics3_97'], axis=1)"
   ]
  },
  {
   "cell_type": "code",
   "execution_count": 8,
   "metadata": {},
   "outputs": [],
   "source": [
    "cox = CoxPHFitter(penalizer=0.1).fit(data_cox, duration_col='T', event_col='E')"
   ]
  },
  {
   "cell_type": "code",
   "execution_count": 9,
   "metadata": {},
   "outputs": [],
   "source": [
    "y_pred_val = cox.predict_survival_function(x_val_h_cox)"
   ]
  },
  {
   "cell_type": "code",
   "execution_count": 22,
   "metadata": {},
   "outputs": [],
   "source": [
    "y_pred_np = y_pred_val.values[3, :]"
   ]
  },
  {
   "cell_type": "code",
   "execution_count": 8,
   "metadata": {},
   "outputs": [],
   "source": [
    "rsf = RandomSurvivalForestModel(num_trees=10)"
   ]
  },
  {
   "cell_type": "code",
   "execution_count": 12,
   "metadata": {},
   "outputs": [],
   "source": [
    "T = y_train_rsf_arr[:, 0]\n",
    "E = y_train_rsf_arr[:, 1]"
   ]
  },
  {
   "cell_type": "code",
   "execution_count": 17,
   "metadata": {},
   "outputs": [
    {
     "data": {
      "text/plain": [
       "RandomSurvivalForestModel"
      ]
     },
     "execution_count": 17,
     "metadata": {},
     "output_type": "execute_result"
    }
   ],
   "source": [
    "rsf.fit(x_train_raw, T, E, sample_size_pct=1.0)"
   ]
  },
  {
   "cell_type": "code",
   "execution_count": 23,
   "metadata": {},
   "outputs": [],
   "source": [
    "pred = rsf.predict_survival(x_val, 1)"
   ]
  },
  {
   "cell_type": "code",
   "execution_count": 23,
   "metadata": {},
   "outputs": [
    {
     "ename": "NameError",
     "evalue": "name 'pred' is not defined",
     "output_type": "error",
     "traceback": [
      "\u001b[0;31m---------------------------------------------------------------------------\u001b[0m",
      "\u001b[0;31mNameError\u001b[0m                                 Traceback (most recent call last)",
      "\u001b[0;32m<ipython-input-23-2f4f35ded540>\u001b[0m in \u001b[0;36m<module>\u001b[0;34m\u001b[0m\n\u001b[0;32m----> 1\u001b[0;31m \u001b[0mpred\u001b[0m\u001b[0;34m.\u001b[0m\u001b[0mshape\u001b[0m\u001b[0;34m\u001b[0m\u001b[0;34m\u001b[0m\u001b[0m\n\u001b[0m",
      "\u001b[0;31mNameError\u001b[0m: name 'pred' is not defined"
     ]
    }
   ],
   "source": [
    "pred.shape"
   ]
  },
  {
   "cell_type": "code",
   "execution_count": 22,
   "metadata": {},
   "outputs": [
    {
     "data": {
      "text/plain": [
       "(18334,)"
      ]
     },
     "execution_count": 22,
     "metadata": {},
     "output_type": "execute_result"
    }
   ],
   "source": [
    "y_val.shape"
   ]
  },
  {
   "cell_type": "code",
   "execution_count": 24,
   "metadata": {},
   "outputs": [],
   "source": [
    "fpr, tpr, thresh = roc_curve(y_val, 1 - y_pred_np)\n",
    "auc = roc_auc_score(y_val, 1 - y_pred_np)"
   ]
  },
  {
   "cell_type": "code",
   "execution_count": null,
   "metadata": {},
   "outputs": [],
   "source": []
  }
 ],
 "metadata": {
  "kernelspec": {
   "display_name": "Python 3",
   "language": "python",
   "name": "python3"
  },
  "orig_nbformat": 4
 },
 "nbformat": 4,
 "nbformat_minor": 2
}

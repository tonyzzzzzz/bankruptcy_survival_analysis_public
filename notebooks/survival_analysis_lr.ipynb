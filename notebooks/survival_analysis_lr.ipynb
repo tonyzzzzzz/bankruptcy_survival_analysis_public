{
  "cells": [
    {
      "cell_type": "code",
      "execution_count": 1,
      "metadata": {
        "colab": {
          "base_uri": "https://localhost:8080/"
        },
        "id": "LbgESGP6axjJ",
        "outputId": "da3fb9ef-0930-423f-f7d3-95759af714e3"
      },
      "outputs": [],
      "source": [
        "import pandas as pd\n",
        "import numpy as np\n",
        "\n",
        "import os\n",
        "import gc \n",
        "import math"
      ]
    },
    {
      "attachments": {},
      "cell_type": "markdown",
      "metadata": {},
      "source": [
        "# Data Cleaning"
      ]
    },
    {
      "cell_type": "code",
      "execution_count": 2,
      "metadata": {},
      "outputs": [],
      "source": [
        "def load_raw_data(filename):\n",
        "\n",
        "  raw_data_by_gvkey_fyear = pd.read_csv(filename, index_col=['gvkey', 'fyear'])\n",
        "  sorted_data_raw_data = raw_data_by_gvkey_fyear.sort_index()\n",
        "\n",
        "  feature_columns = [col for col in sorted_data_raw_data.columns if col != 'IBankrupt']\n",
        "\n",
        "  return sorted_data_raw_data[feature_columns], sorted_data_raw_data['IBankrupt']"
      ]
    },
    {
      "cell_type": "code",
      "execution_count": 4,
      "metadata": {},
      "outputs": [],
      "source": [
        "raw_features, raw_labels = load_raw_data('/home/tonyzou/bankruptcy-survival-analysis/data/data_for_bankruptcy_prediction_no_lags_corrected.csv')"
      ]
    },
    {
      "cell_type": "code",
      "execution_count": 44,
      "metadata": {},
      "outputs": [],
      "source": [
        "def calculate_te(company_data):\n",
        "    # Change fyear index to columns\n",
        "    fyears_value = company_data.index.get_level_values('fyear')\n",
        "\n",
        "    # Calculate all bankrupted years in NumPy arrays\n",
        "    bankrupted_years = company_data.loc[company_data > 0].index.get_level_values('fyear')\n",
        "    bankrupted_years_np = bankrupted_years.values.flatten()\n",
        "\n",
        "    # Calculate all missing years in NumPy arrays\n",
        "    presented_years = fyears_value.values\n",
        "    all_years = np.arange(start=np.min(presented_years), stop=(np.max(presented_years)+2))\n",
        "    missing_years_np = np.setdiff1d(all_years, presented_years) - 1\n",
        "\n",
        "    # For definition 1, we treat both bankrupted years and missing years as event years\n",
        "    event_years = np.concatenate([bankrupted_years_np, missing_years_np])\n",
        "\n",
        "    # Return T: Time to the earliest event year(union of bankrupted year and missing year)\n",
        "    def calculate_t(x):\n",
        "        dist = x - event_years\n",
        "        dist = dist[dist <= 0] # Future only\n",
        "        dist = np.abs(dist) # Take absolute distance\n",
        "        return min(dist) + 1\n",
        "        \n",
        "    # Return T for Definition 1: T = nearest future bankruptcy year, if not present, then nearest future missing year\n",
        "    # def calculate_t(x):\n",
        "    #     dist = x - bankrupted_years_np\n",
        "    #     dist = dist[dist <= 0] # Future only\n",
        "    #     dist = np.abs(dist)\n",
        "    #     if dist.size == 0:\n",
        "    #         return presented_years.max() - x + 1\n",
        "    #     return np.min(dist)\n",
        "    \n",
        "    # Return E: if there are any future bankrupted year, return 1, else return 0\n",
        "    def calculate_e(x):\n",
        "        dist = x - bankrupted_years_np\n",
        "        dist = dist[dist <= 0]\n",
        "        if dist.size == 0:\n",
        "            return 0\n",
        "        return 1\n",
        "\n",
        "    # Company_data is Series object, change to DataFrame to add columns\n",
        "    x = company_data.to_frame()\n",
        "    x['T'] = fyears_value.map(calculate_t)\n",
        "    x['E'] = fyears_value.map(calculate_e)\n",
        "    x['missing_years'] = fyears_value.map(lambda x: missing_years_np)\n",
        "    x['bankrupted_years'] = fyears_value.map(lambda x: bankrupted_years_np)\n",
        "\n",
        "    # Rename columns\n",
        "    x = x.set_axis(['IBankrupt', 'T', 'E', 'missing_years', 'bankrupted_years'], axis=1, copy=False)\n",
        "    return x"
      ]
    },
    {
      "cell_type": "code",
      "execution_count": 45,
      "metadata": {},
      "outputs": [],
      "source": [
        "y = raw_labels.copy()\n",
        "y = y.groupby(level=0, group_keys=False).apply(calculate_te)"
      ]
    },
    {
      "cell_type": "code",
      "execution_count": 48,
      "metadata": {},
      "outputs": [
        {
          "data": {
            "text/html": [
              "<div>\n",
              "<style scoped>\n",
              "    .dataframe tbody tr th:only-of-type {\n",
              "        vertical-align: middle;\n",
              "    }\n",
              "\n",
              "    .dataframe tbody tr th {\n",
              "        vertical-align: top;\n",
              "    }\n",
              "\n",
              "    .dataframe thead th {\n",
              "        text-align: right;\n",
              "    }\n",
              "</style>\n",
              "<table border=\"1\" class=\"dataframe\">\n",
              "  <thead>\n",
              "    <tr style=\"text-align: right;\">\n",
              "      <th></th>\n",
              "      <th>IBankrupt</th>\n",
              "      <th>T</th>\n",
              "      <th>E</th>\n",
              "      <th>missing_years</th>\n",
              "      <th>bankrupted_years</th>\n",
              "    </tr>\n",
              "    <tr>\n",
              "      <th>fyear</th>\n",
              "      <th></th>\n",
              "      <th></th>\n",
              "      <th></th>\n",
              "      <th></th>\n",
              "      <th></th>\n",
              "    </tr>\n",
              "  </thead>\n",
              "  <tbody>\n",
              "    <tr>\n",
              "      <th>1980</th>\n",
              "      <td>0</td>\n",
              "      <td>2</td>\n",
              "      <td>1</td>\n",
              "      <td>[1982]</td>\n",
              "      <td>[1981]</td>\n",
              "    </tr>\n",
              "    <tr>\n",
              "      <th>1981</th>\n",
              "      <td>1</td>\n",
              "      <td>1</td>\n",
              "      <td>1</td>\n",
              "      <td>[1982]</td>\n",
              "      <td>[1981]</td>\n",
              "    </tr>\n",
              "    <tr>\n",
              "      <th>1982</th>\n",
              "      <td>0</td>\n",
              "      <td>1</td>\n",
              "      <td>0</td>\n",
              "      <td>[1982]</td>\n",
              "      <td>[1981]</td>\n",
              "    </tr>\n",
              "  </tbody>\n",
              "</table>\n",
              "</div>"
            ],
            "text/plain": [
              "       IBankrupt  T  E missing_years bankrupted_years\n",
              "fyear                                                \n",
              "1980           0  2  1        [1982]           [1981]\n",
              "1981           1  1  1        [1982]           [1981]\n",
              "1982           0  1  0        [1982]           [1981]"
            ]
          },
          "execution_count": 48,
          "metadata": {},
          "output_type": "execute_result"
        }
      ],
      "source": [
        "y.loc[1364]"
      ]
    },
    {
      "cell_type": "code",
      "execution_count": 5,
      "metadata": {},
      "outputs": [],
      "source": [
        "def drop_unknown_horizon(raw_labels, horizon=3):\n",
        "    \n",
        "    \n",
        "    # Calculate T, E columns for each company\n",
        "    y = raw_labels.copy()\n",
        "    y = y.groupby(level=0, group_keys=False).apply(calculate_te)\n",
        "\n",
        "    # For definition 2: \n",
        "    # Mask for all rows where bankrupted\n",
        "    bankrupted_filter = y['E'] == 1\n",
        "    # Mask for all rows where has information within horizon\n",
        "    greater_than_horizon_filter = y['T'] > horizon\n",
        "    # Use OR operation for two masks\n",
        "    mask = bankrupted_filter | greater_than_horizon_filter\n",
        "\n",
        "    y = y[mask]\n",
        "\n",
        "    # Add column for companies bankrupted within horizon\n",
        "    y['HBankrupt'] = ((y['T'] <= (horizon + 1)) & bankrupted_filter).astype(int)\n",
        "\n",
        "    # For definition 1:\n",
        "    # greater_than_horizon_filter = y['T'] > horizon\n",
        "    # mask = greater_than_horizon_filter\n",
        "\n",
        "    return y"
      ]
    },
    {
      "cell_type": "code",
      "execution_count": 22,
      "metadata": {},
      "outputs": [],
      "source": [
        "def calculate_time_to_bankrupt(company_data, horizon=3):\n",
        "    # Get all years\n",
        "    fyears_value = company_data.index.get_level_values('fyear')\n",
        "\n",
        "    bankrupted_years = company_data.loc[company_data > 0].index.get_level_values('fyear')\n",
        "    bankrupted_years_np = bankrupted_years.values.flatten() + 1\n",
        "\n",
        "    presented_years = fyears_value.values\n",
        "    all_years = np.arange(start=np.min(presented_years), stop=(np.max(presented_years)+2))\n",
        "    missing_years_np = np.setdiff1d(all_years, presented_years)\n",
        "    \n",
        "    event_years = np.concatenate([bankrupted_years_np, missing_years_np])\n",
        "\n",
        "    # Return T for Definition 2: T = min(nearest future bankruptcy year, nearest future missing year)\n",
        "    def calculate_t(x):\n",
        "        dist = x - event_years\n",
        "        dist = dist[dist <= 0] # Future only\n",
        "        dist = np.abs(dist)\n",
        "        return np.min(dist)\n",
        "    \n",
        "    # Return T for Definition 1: T = nearest future bankruptcy year, if not present, then nearest future missing year\n",
        "    # def calculate_t(x):\n",
        "    #     dist = x - bankrupted_years_np\n",
        "    #     dist = dist[dist <= 0] # Future only\n",
        "    #     dist = np.abs(dist)\n",
        "    #     if dist.size == 0:\n",
        "    #         return presented_years.max() - x + 1\n",
        "    #     return np.min(dist)\n",
        "    \n",
        "    # Return E: if there are any future bankrupted year, return 1, else return 0\n",
        "    def calculate_e(x):\n",
        "        dist = x - bankrupted_years_np\n",
        "        dist = dist[dist <= 0]\n",
        "        if dist.size == 0:\n",
        "            return 0\n",
        "        return 1\n",
        "    \n",
        "    x = company_data.to_frame()\n",
        "    x['T'] = fyears_value.map(calculate_t)\n",
        "    x['E'] = fyears_value.map(calculate_e)\n",
        "    x = x.set_axis(['IBankrupt', 'T', 'E'], axis=1, copy=False)\n",
        "    return x\n",
        "  \n",
        "y = raw_labels.copy()\n",
        "y = y.groupby(level=0, group_keys=False).apply(lambda x: calculate_time_to_bankrupt(x))"
      ]
    },
    {
      "cell_type": "code",
      "execution_count": 38,
      "metadata": {},
      "outputs": [
        {
          "data": {
            "text/html": [
              "<div>\n",
              "<style scoped>\n",
              "    .dataframe tbody tr th:only-of-type {\n",
              "        vertical-align: middle;\n",
              "    }\n",
              "\n",
              "    .dataframe tbody tr th {\n",
              "        vertical-align: top;\n",
              "    }\n",
              "\n",
              "    .dataframe thead th {\n",
              "        text-align: right;\n",
              "    }\n",
              "</style>\n",
              "<table border=\"1\" class=\"dataframe\">\n",
              "  <thead>\n",
              "    <tr style=\"text-align: right;\">\n",
              "      <th></th>\n",
              "      <th></th>\n",
              "      <th>IBankrupt</th>\n",
              "      <th>T</th>\n",
              "      <th>E</th>\n",
              "    </tr>\n",
              "    <tr>\n",
              "      <th>gvkey</th>\n",
              "      <th>fyear</th>\n",
              "      <th></th>\n",
              "      <th></th>\n",
              "      <th></th>\n",
              "    </tr>\n",
              "  </thead>\n",
              "  <tbody>\n",
              "    <tr>\n",
              "      <th rowspan=\"5\" valign=\"top\">1004</th>\n",
              "      <th>1983</th>\n",
              "      <td>0</td>\n",
              "      <td>35</td>\n",
              "      <td>0</td>\n",
              "    </tr>\n",
              "    <tr>\n",
              "      <th>1984</th>\n",
              "      <td>0</td>\n",
              "      <td>34</td>\n",
              "      <td>0</td>\n",
              "    </tr>\n",
              "    <tr>\n",
              "      <th>1985</th>\n",
              "      <td>0</td>\n",
              "      <td>33</td>\n",
              "      <td>0</td>\n",
              "    </tr>\n",
              "    <tr>\n",
              "      <th>1986</th>\n",
              "      <td>0</td>\n",
              "      <td>32</td>\n",
              "      <td>0</td>\n",
              "    </tr>\n",
              "    <tr>\n",
              "      <th>1987</th>\n",
              "      <td>0</td>\n",
              "      <td>31</td>\n",
              "      <td>0</td>\n",
              "    </tr>\n",
              "    <tr>\n",
              "      <th>...</th>\n",
              "      <th>...</th>\n",
              "      <td>...</td>\n",
              "      <td>...</td>\n",
              "      <td>...</td>\n",
              "    </tr>\n",
              "    <tr>\n",
              "      <th>315887</th>\n",
              "      <th>2014</th>\n",
              "      <td>0</td>\n",
              "      <td>4</td>\n",
              "      <td>0</td>\n",
              "    </tr>\n",
              "    <tr>\n",
              "      <th rowspan=\"2\" valign=\"top\">316056</th>\n",
              "      <th>2013</th>\n",
              "      <td>0</td>\n",
              "      <td>5</td>\n",
              "      <td>0</td>\n",
              "    </tr>\n",
              "    <tr>\n",
              "      <th>2014</th>\n",
              "      <td>0</td>\n",
              "      <td>4</td>\n",
              "      <td>0</td>\n",
              "    </tr>\n",
              "    <tr>\n",
              "      <th>317260</th>\n",
              "      <th>2014</th>\n",
              "      <td>0</td>\n",
              "      <td>4</td>\n",
              "      <td>0</td>\n",
              "    </tr>\n",
              "    <tr>\n",
              "      <th>317264</th>\n",
              "      <th>2014</th>\n",
              "      <td>0</td>\n",
              "      <td>4</td>\n",
              "      <td>0</td>\n",
              "    </tr>\n",
              "  </tbody>\n",
              "</table>\n",
              "<p>60146 rows × 3 columns</p>\n",
              "</div>"
            ],
            "text/plain": [
              "              IBankrupt   T  E\n",
              "gvkey  fyear                  \n",
              "1004   1983           0  35  0\n",
              "       1984           0  34  0\n",
              "       1985           0  33  0\n",
              "       1986           0  32  0\n",
              "       1987           0  31  0\n",
              "...                 ...  .. ..\n",
              "315887 2014           0   4  0\n",
              "316056 2013           0   5  0\n",
              "       2014           0   4  0\n",
              "317260 2014           0   4  0\n",
              "317264 2014           0   4  0\n",
              "\n",
              "[60146 rows x 3 columns]"
            ]
          },
          "execution_count": 38,
          "metadata": {},
          "output_type": "execute_result"
        }
      ],
      "source": [
        "# y.loc[1043]\n",
        "bankrupted_filter = y['E']==1\n",
        "less_than_horizon_filter = y['T'] > 3\n",
        "mask = bankrupted_filter | less_than_horizon_filter\n",
        "y[mask]"
      ]
    },
    {
      "attachments": {},
      "cell_type": "markdown",
      "metadata": {},
      "source": [
        "# Logistic Regression Training"
      ]
    },
    {
      "cell_type": "code",
      "execution_count": 23,
      "metadata": {
        "id": "4g4uyZJObEBy"
      },
      "outputs": [],
      "source": [
        "from sklearn.linear_model import LogisticRegression\n",
        "from sklearn.metrics import roc_curve\n",
        "from sklearn.metrics import roc_auc_score\n",
        "import matplotlib.pyplot as plt"
      ]
    },
    {
      "cell_type": "code",
      "execution_count": 259,
      "metadata": {
        "id": "KH-dizDmbGI_"
      },
      "outputs": [],
      "source": [
        "x_train, x_test, y_train, y_test = data[0]\n",
        "x_train_values = x_train.values[:, :75]\n",
        "y_train_values = y_train.values\n",
        "x_test_values = x_test.values[:, :75]\n",
        "y_test_values = y_test.values\n",
        "\n",
        "clf = LogisticRegression(max_iter=10000, random_state=42)\n",
        "clf.fit(x_train_values, y_train_values)\n",
        "\n",
        "predicts = clf.predict(x_test_values)"
      ]
    },
    {
      "cell_type": "code",
      "execution_count": 260,
      "metadata": {
        "colab": {
          "base_uri": "https://localhost:8080/",
          "height": 472
        },
        "id": "4YZ7Q2tllKKX",
        "outputId": "ed84b22b-fed7-4875-be63-637775124026"
      },
      "outputs": [
        {
          "data": {
            "image/png": "[encoded data removed]",
            "text/plain": [
              "<Figure size 640x480 with 1 Axes>"
            ]
          },
          "metadata": {},
          "output_type": "display_data"
        }
      ],
      "source": [
        "fpr, tpr, thresholds = roc_curve(y_test_values, predicts)\n",
        "roc_auc = roc_auc_score(y_test_values, predicts)\n",
        "\n",
        "# Plot ROC curve\n",
        "plt.plot(fpr, tpr, label=f'AUC={roc_auc:.2f}')\n",
        "plt.plot([0, 1], [0, 1], linestyle='--', label='Random', alpha=0.5)\n",
        "plt.xlabel('False Positive Rate')\n",
        "plt.ylabel('True Positive Rate')\n",
        "plt.title('ROC Curve')\n",
        "plt.legend()\n",
        "plt.show()"
      ]
    }
  ],
  "metadata": {
    "colab": {
      "provenance": [],
      "toc_visible": true
    },
    "kernelspec": {
      "display_name": "Python 3",
      "name": "python3"
    },
    "language_info": {
      "codemirror_mode": {
        "name": "ipython",
        "version": 3
      },
      "file_extension": ".py",
      "mimetype": "text/x-python",
      "name": "python",
      "nbconvert_exporter": "python",
      "pygments_lexer": "ipython3",
      "version": "3.10.9"
    }
  },
  "nbformat": 4,
  "nbformat_minor": 0
}

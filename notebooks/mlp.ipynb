{
 "cells": [
  {
   "cell_type": "code",
   "execution_count": 1,
   "metadata": {},
   "outputs": [],
   "source": [
    "import os\n",
    "import sys\n",
    "import pandas\n",
    "from tqdm import tqdm\n",
    "import numpy as np\n",
    "module_path = os.path.abspath(os.path.join('..'))\n",
    "sys.path.append(module_path)"
   ]
  },
  {
   "cell_type": "code",
   "execution_count": 2,
   "metadata": {},
   "outputs": [
    {
     "name": "stdout",
     "output_type": "stream",
     "text": [
      "Device:  cuda\n"
     ]
    }
   ],
   "source": [
    "from torch.utils.data import DataLoader, Dataset\n",
    "from torch.nn import modules\n",
    "from torch import nn\n",
    "import torch\n",
    "from torchsummaryX import summary\n",
    "from sklearn.metrics import roc_auc_score\n",
    "import matplotlib.pyplot as plt\n",
    "from sklearn.metrics import roc_curve\n",
    "\n",
    "\n",
    "device = 'cuda' if torch.cuda.is_available() else 'cpu'\n",
    "print(\"Device: \", device)"
   ]
  },
  {
   "cell_type": "code",
   "execution_count": 3,
   "metadata": {},
   "outputs": [],
   "source": [
    "from bsa.dataset.data_loader import load_raw_data, preprocess_data, splitting_function"
   ]
  },
  {
   "cell_type": "code",
   "execution_count": 4,
   "metadata": {},
   "outputs": [],
   "source": [
    "import random\n",
    "\n",
    "seed = 3407\n",
    "random.seed(seed)\n",
    "torch.manual_seed(seed)\n",
    "np.random.seed(seed)"
   ]
  },
  {
   "attachments": {},
   "cell_type": "markdown",
   "metadata": {},
   "source": [
    "# Configurations"
   ]
  },
  {
   "attachments": {},
   "cell_type": "markdown",
   "metadata": {},
   "source": [
    "# Dataset"
   ]
  },
  {
   "cell_type": "code",
   "execution_count": 5,
   "metadata": {},
   "outputs": [
    {
     "name": "stderr",
     "output_type": "stream",
     "text": [
      "/home/tonyzou/bankruptcy-survival-analysis/bsa/dataset/data_loader.py:82: SettingWithCopyWarning: \n",
      "A value is trying to be set on a copy of a slice from a DataFrame.\n",
      "Try using .loc[row_indexer,col_indexer] = value instead\n",
      "\n",
      "See the caveats in the documentation: https://pandas.pydata.org/pandas-docs/stable/user_guide/indexing.html#returning-a-view-versus-a-copy\n",
      "  y['HBankrupt'] = ((y['T'] <= (horizon + 1)) & bankrupted_filter).astype(int)\n"
     ]
    }
   ],
   "source": [
    "raw_data, raw_labels = load_raw_data(\"../data/data_for_bankruptcy_prediction_no_lags_corrected.csv\")\n",
    "x, y = preprocess_data(raw_data, raw_labels, horizon=3)\n",
    "x_train, x_test, y_train, y_test = splitting_function(x, y, 0.05)"
   ]
  },
  {
   "cell_type": "code",
   "execution_count": 6,
   "metadata": {},
   "outputs": [
    {
     "name": "stdout",
     "output_type": "stream",
     "text": [
      "Training features shape:  (57399, 324)\n",
      "Training labels shape:  (57399, 4)\n",
      "Testing features shape:  (2673, 324)\n",
      "Testing labels shape:  (2673, 4)\n"
     ]
    }
   ],
   "source": [
    "# Verify\n",
    "print(\"Training features shape: \", x_train.shape)\n",
    "print(\"Training labels shape: \", y_train.shape)\n",
    "print(\"Testing features shape: \", x_test.shape)\n",
    "print(\"Testing labels shape: \", y_test.shape)"
   ]
  },
  {
   "cell_type": "code",
   "execution_count": 7,
   "metadata": {},
   "outputs": [],
   "source": [
    "class CompanyDataset(Dataset):\n",
    "    def __init__(self, x : pandas.DataFrame, y : pandas.DataFrame) -> None:\n",
    "        super().__init__()\n",
    "        \n",
    "        self.x = x.values\n",
    "        self.y = y.values[:, 3]\n",
    "    \n",
    "    def __len__(self):\n",
    "        return self.x.shape[0]\n",
    "    \n",
    "    def __getitem__(self, idx):\n",
    "        return torch.tensor(self.x[idx], dtype=torch.float32), torch.tensor(self.y[idx], dtype=torch.float32)"
   ]
  },
  {
   "cell_type": "code",
   "execution_count": 8,
   "metadata": {},
   "outputs": [],
   "source": [
    "train_data = CompanyDataset(x_train, y_train)\n",
    "test_data = CompanyDataset(x_test, y_test)\n",
    "\n",
    "train_loader = DataLoader(train_data, batch_size=32, shuffle=True)\n",
    "valid_loader = DataLoader(test_data, batch_size=32, shuffle=True)"
   ]
  },
  {
   "cell_type": "code",
   "execution_count": 9,
   "metadata": {},
   "outputs": [
    {
     "name": "stdout",
     "output_type": "stream",
     "text": [
      "tensor(False)\n",
      "torch.Size([32, 324])\n",
      "torch.Size([32])\n"
     ]
    }
   ],
   "source": [
    "for i, (x, y) in enumerate(train_loader):\n",
    "    x : torch.Tensor = x\n",
    "    print(x.isnan().any())\n",
    "    print(x.shape)\n",
    "    print(y.shape)\n",
    "    break"
   ]
  },
  {
   "attachments": {},
   "cell_type": "markdown",
   "metadata": {},
   "source": [
    "# Network"
   ]
  },
  {
   "cell_type": "code",
   "execution_count": 10,
   "metadata": {},
   "outputs": [],
   "source": [
    "class MLP(torch.nn.Module):\n",
    "    def __init__(self, input_feature) -> None:\n",
    "        super().__init__()\n",
    "        self.layers = nn.Sequential(\n",
    "            nn.Linear(input_feature, 256),\n",
    "            nn.Sigmoid(),\n",
    "\n",
    "            nn.Linear(256, 256),\n",
    "            nn.GELU(),\n",
    "\n",
    "            nn.Linear(256, 256),\n",
    "            nn.GELU(),\n",
    "\n",
    "            nn.Linear(256, 256),\n",
    "            nn.GELU(),\n",
    "\n",
    "            nn.Linear(256, 1),\n",
    "            nn.Sigmoid()\n",
    "        )\n",
    "    def forward(self, x):\n",
    "        return self.layers(x)"
   ]
  },
  {
   "cell_type": "code",
   "execution_count": 23,
   "metadata": {},
   "outputs": [
    {
     "name": "stdout",
     "output_type": "stream",
     "text": [
      "================================================================\n",
      "                   Kernel Shape Output Shape   Params Mult-Adds\n",
      "Layer                                                          \n",
      "0_layers.Linear_0    [324, 256]    [32, 256]    83.2k   82.944k\n",
      "1_layers.Sigmoid_1            -    [32, 256]        -         -\n",
      "2_layers.Linear_2    [256, 256]    [32, 256]  65.792k   65.536k\n",
      "3_layers.GELU_3               -    [32, 256]        -         -\n",
      "4_layers.Linear_4    [256, 256]    [32, 256]  65.792k   65.536k\n",
      "5_layers.GELU_5               -    [32, 256]        -         -\n",
      "6_layers.Linear_6    [256, 256]    [32, 256]  65.792k   65.536k\n",
      "7_layers.GELU_7               -    [32, 256]        -         -\n",
      "8_layers.Linear_8      [256, 1]      [32, 1]    257.0     256.0\n",
      "9_layers.Sigmoid_9            -      [32, 1]        -         -\n",
      "----------------------------------------------------------------\n",
      "                        Totals\n",
      "Total params          280.833k\n",
      "Trainable params      280.833k\n",
      "Non-trainable params       0.0\n",
      "Mult-Adds             279.808k\n",
      "================================================================\n"
     ]
    },
    {
     "name": "stderr",
     "output_type": "stream",
     "text": [
      "/home/tonyzou/anaconda3/envs/torch-2.0/lib/python3.10/site-packages/torchsummaryX/torchsummaryX.py:101: FutureWarning: The default value of numeric_only in DataFrame.sum is deprecated. In a future version, it will default to False. In addition, specifying 'numeric_only=None' is deprecated. Select only valid columns or specify the value of numeric_only to silence this warning.\n",
      "  df_sum = df.sum()\n"
     ]
    },
    {
     "data": {
      "text/html": [
       "<div>\n",
       "<style scoped>\n",
       "    .dataframe tbody tr th:only-of-type {\n",
       "        vertical-align: middle;\n",
       "    }\n",
       "\n",
       "    .dataframe tbody tr th {\n",
       "        vertical-align: top;\n",
       "    }\n",
       "\n",
       "    .dataframe thead th {\n",
       "        text-align: right;\n",
       "    }\n",
       "</style>\n",
       "<table border=\"1\" class=\"dataframe\">\n",
       "  <thead>\n",
       "    <tr style=\"text-align: right;\">\n",
       "      <th></th>\n",
       "      <th>Kernel Shape</th>\n",
       "      <th>Output Shape</th>\n",
       "      <th>Params</th>\n",
       "      <th>Mult-Adds</th>\n",
       "    </tr>\n",
       "    <tr>\n",
       "      <th>Layer</th>\n",
       "      <th></th>\n",
       "      <th></th>\n",
       "      <th></th>\n",
       "      <th></th>\n",
       "    </tr>\n",
       "  </thead>\n",
       "  <tbody>\n",
       "    <tr>\n",
       "      <th>0_layers.Linear_0</th>\n",
       "      <td>[324, 256]</td>\n",
       "      <td>[32, 256]</td>\n",
       "      <td>83200.0</td>\n",
       "      <td>82944.0</td>\n",
       "    </tr>\n",
       "    <tr>\n",
       "      <th>1_layers.Sigmoid_1</th>\n",
       "      <td>-</td>\n",
       "      <td>[32, 256]</td>\n",
       "      <td>NaN</td>\n",
       "      <td>NaN</td>\n",
       "    </tr>\n",
       "    <tr>\n",
       "      <th>2_layers.Linear_2</th>\n",
       "      <td>[256, 256]</td>\n",
       "      <td>[32, 256]</td>\n",
       "      <td>65792.0</td>\n",
       "      <td>65536.0</td>\n",
       "    </tr>\n",
       "    <tr>\n",
       "      <th>3_layers.GELU_3</th>\n",
       "      <td>-</td>\n",
       "      <td>[32, 256]</td>\n",
       "      <td>NaN</td>\n",
       "      <td>NaN</td>\n",
       "    </tr>\n",
       "    <tr>\n",
       "      <th>4_layers.Linear_4</th>\n",
       "      <td>[256, 256]</td>\n",
       "      <td>[32, 256]</td>\n",
       "      <td>65792.0</td>\n",
       "      <td>65536.0</td>\n",
       "    </tr>\n",
       "    <tr>\n",
       "      <th>5_layers.GELU_5</th>\n",
       "      <td>-</td>\n",
       "      <td>[32, 256]</td>\n",
       "      <td>NaN</td>\n",
       "      <td>NaN</td>\n",
       "    </tr>\n",
       "    <tr>\n",
       "      <th>6_layers.Linear_6</th>\n",
       "      <td>[256, 256]</td>\n",
       "      <td>[32, 256]</td>\n",
       "      <td>65792.0</td>\n",
       "      <td>65536.0</td>\n",
       "    </tr>\n",
       "    <tr>\n",
       "      <th>7_layers.GELU_7</th>\n",
       "      <td>-</td>\n",
       "      <td>[32, 256]</td>\n",
       "      <td>NaN</td>\n",
       "      <td>NaN</td>\n",
       "    </tr>\n",
       "    <tr>\n",
       "      <th>8_layers.Linear_8</th>\n",
       "      <td>[256, 1]</td>\n",
       "      <td>[32, 1]</td>\n",
       "      <td>257.0</td>\n",
       "      <td>256.0</td>\n",
       "    </tr>\n",
       "    <tr>\n",
       "      <th>9_layers.Sigmoid_9</th>\n",
       "      <td>-</td>\n",
       "      <td>[32, 1]</td>\n",
       "      <td>NaN</td>\n",
       "      <td>NaN</td>\n",
       "    </tr>\n",
       "  </tbody>\n",
       "</table>\n",
       "</div>"
      ],
      "text/plain": [
       "                   Kernel Shape Output Shape   Params  Mult-Adds\n",
       "Layer                                                           \n",
       "0_layers.Linear_0    [324, 256]    [32, 256]  83200.0    82944.0\n",
       "1_layers.Sigmoid_1            -    [32, 256]      NaN        NaN\n",
       "2_layers.Linear_2    [256, 256]    [32, 256]  65792.0    65536.0\n",
       "3_layers.GELU_3               -    [32, 256]      NaN        NaN\n",
       "4_layers.Linear_4    [256, 256]    [32, 256]  65792.0    65536.0\n",
       "5_layers.GELU_5               -    [32, 256]      NaN        NaN\n",
       "6_layers.Linear_6    [256, 256]    [32, 256]  65792.0    65536.0\n",
       "7_layers.GELU_7               -    [32, 256]      NaN        NaN\n",
       "8_layers.Linear_8      [256, 1]      [32, 1]    257.0      256.0\n",
       "9_layers.Sigmoid_9            -      [32, 1]      NaN        NaN"
      ]
     },
     "execution_count": 23,
     "metadata": {},
     "output_type": "execute_result"
    }
   ],
   "source": [
    "model = MLP(x.shape[1]).to(device)\n",
    "summary(model, x.to(device))"
   ]
  },
  {
   "cell_type": "code",
   "execution_count": 24,
   "metadata": {},
   "outputs": [],
   "source": [
    "criterion = nn.BCELoss()\n",
    "optimizer = torch.optim.Adam(model.parameters(), lr=0.001, maximize=False)"
   ]
  },
  {
   "cell_type": "code",
   "execution_count": 25,
   "metadata": {},
   "outputs": [],
   "source": [
    "def train(model, train_loader, criterion, optimizer):\n",
    "    model.train()\n",
    "    batch_bar = tqdm(total=len(train_loader), dynamic_ncols=True, leave=False, position=0, desc='Train') \n",
    "\n",
    "    train_loss = 0\n",
    "    for i, (x, y) in enumerate(train_loader):\n",
    "        optimizer.zero_grad()\n",
    "\n",
    "        x, y = x.to(device), y.to(device)\n",
    "        y_pred = model(x).view(-1)\n",
    "\n",
    "        loss = criterion(y_pred, y)\n",
    "\n",
    "        train_loss += loss.item()\n",
    "\n",
    "        batch_bar.set_postfix(\n",
    "            loss=\"{:.04f}\".format(float(train_loss / (i + 1))),\n",
    "            lr=\"{:.06f}\".format(float(optimizer.param_groups[0]['lr'])))\n",
    "        \n",
    "        batch_bar.update()\n",
    "\n",
    "        loss.backward()\n",
    "\n",
    "        optimizer.step()\n",
    "\n",
    "    batch_bar.close()\n",
    "\n",
    "    return train_loss / len(train_loader)"
   ]
  },
  {
   "cell_type": "code",
   "execution_count": 26,
   "metadata": {},
   "outputs": [],
   "source": [
    "def eval(model, val_loader, criterion):\n",
    "    model.eval()\n",
    "\n",
    "    batch_bar = tqdm(total=len(val_loader), dynamic_ncols=True, position=0, leave=False, desc='Val')\n",
    "    \n",
    "    predicts = []\n",
    "    y_all = []\n",
    "    \n",
    "    total_loss = 0\n",
    "\n",
    "    for i, (x, y) in enumerate(val_loader):\n",
    "        x, y = x.to(device), y.to(device)\n",
    "\n",
    "        with torch.inference_mode():\n",
    "            y_pred = model(x).view(-1)\n",
    "            \n",
    "            loss = criterion(y_pred, y)\n",
    "\n",
    "        predicts.append(y_pred)\n",
    "        y_all.append(y)\n",
    "\n",
    "        total_loss += loss.item()\n",
    "\n",
    "        batch_bar.set_postfix(loss=\"{:.04f}\".format(float(total_loss / (i + 1))))\n",
    "        batch_bar.update()\n",
    "\n",
    "    predicts = torch.cat(predicts, dim=0).cpu().detach().numpy()\n",
    "    y_all = torch.cat(y_all, dim=0).cpu().detach().numpy()\n",
    "\n",
    "    auc = roc_auc_score(y_all, predicts)\n",
    "    \n",
    "    return total_loss / len(val_loader), auc, predicts, y_all"
   ]
  },
  {
   "cell_type": "code",
   "execution_count": 27,
   "metadata": {},
   "outputs": [
    {
     "name": "stderr",
     "output_type": "stream",
     "text": [
      "                                                                                      \r"
     ]
    },
    {
     "name": "stdout",
     "output_type": "stream",
     "text": [
      "[TRAIN] \tEpoch [1/3] \tLoss: 0.1400\n",
      "[VAL] \tEpoch [1/3] \tLoss: 0.1640 \tAUC: 0.8109\n"
     ]
    },
    {
     "name": "stderr",
     "output_type": "stream",
     "text": [
      "                                                                                      \r"
     ]
    },
    {
     "name": "stdout",
     "output_type": "stream",
     "text": [
      "[TRAIN] \tEpoch [2/3] \tLoss: 0.1220\n",
      "[VAL] \tEpoch [2/3] \tLoss: 0.1319 \tAUC: 0.8406\n"
     ]
    },
    {
     "name": "stderr",
     "output_type": "stream",
     "text": [
      "                                                                                      "
     ]
    },
    {
     "name": "stdout",
     "output_type": "stream",
     "text": [
      "[TRAIN] \tEpoch [3/3] \tLoss: 0.1136\n",
      "[VAL] \tEpoch [3/3] \tLoss: 0.1267 \tAUC: 0.8466\n"
     ]
    },
    {
     "name": "stderr",
     "output_type": "stream",
     "text": [
      "\r"
     ]
    }
   ],
   "source": [
    "for i in range(3):\n",
    "    train_loss = train(model, train_loader, criterion, optimizer)\n",
    "    loss, auc, predicts, y_all = eval(model, valid_loader, criterion)\n",
    "    print('[TRAIN] \\tEpoch [%d/%d] \\tLoss: %.4f'\n",
    "                      % (i + 1, 3, train_loss))\n",
    "    print('[VAL] \\tEpoch [%d/%d] \\tLoss: %.4f \\tAUC: %.4f'\n",
    "                      % (i + 1, 3, loss, auc))"
   ]
  },
  {
   "cell_type": "code",
   "execution_count": 28,
   "metadata": {},
   "outputs": [
    {
     "data": {
      "image/png": "[encoded data removed]",
      "text/plain": [
       "<Figure size 640x480 with 1 Axes>"
      ]
     },
     "metadata": {},
     "output_type": "display_data"
    }
   ],
   "source": [
    "fpr, tpr, thresholds = roc_curve(y_all, predicts)\n",
    "\n",
    "\n",
    "plt.plot(fpr, tpr, label=f'AUC={auc:.2f}')\n",
    "plt.plot([0, 1], [0, 1], linestyle='--', label='Random', alpha=0.5)\n",
    "plt.xlabel('False Positive Rate')\n",
    "plt.ylabel('True Positive Rate')\n",
    "plt.title('ROC Curve')\n",
    "plt.legend()\n",
    "plt.show()"
   ]
  }
 ],
 "metadata": {
  "kernelspec": {
   "display_name": "torch-2.0",
   "language": "python",
   "name": "python3"
  },
  "language_info": {
   "codemirror_mode": {
    "name": "ipython",
    "version": 3
   },
   "file_extension": ".py",
   "mimetype": "text/x-python",
   "name": "python",
   "nbconvert_exporter": "python",
   "pygments_lexer": "ipython3",
   "version": "3.10.9"
  },
  "orig_nbformat": 4
 },
 "nbformat": 4,
 "nbformat_minor": 2
}
